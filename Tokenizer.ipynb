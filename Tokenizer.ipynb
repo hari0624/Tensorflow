{
 "cells": [
  {
   "cell_type": "code",
   "execution_count": null,
   "metadata": {},
   "outputs": [],
   "source": [
    "# Tokenization using Tensorflow\n",
    "# you can refer teh below link for details about what is Tokenizer\n",
    "# https://github.com/hari0624/PySpark-with-Examples/blob/master/Tokenizer_R_Tk.ipynb"
   ]
  },
  {
   "cell_type": "code",
   "execution_count": 2,
   "metadata": {},
   "outputs": [],
   "source": [
    "import tensorflow as tf\n",
    "from tensorflow import keras\n",
    "from tensorflow.keras.preprocessing.text import Tokenizer"
   ]
  },
  {
   "cell_type": "code",
   "execution_count": 3,
   "metadata": {},
   "outputs": [],
   "source": [
    "# data as python array of strings (texts)\n",
    "df = [\n",
    "    \"Tensorflow is awesome\",\n",
    "    \"Keras is also awesome\",\n",
    "    \"Python is too awesome\"\n",
    "]"
   ]
  },
  {
   "cell_type": "code",
   "execution_count": 10,
   "metadata": {},
   "outputs": [
    {
     "name": "stdout",
     "output_type": "stream",
     "text": [
      "{'is': 1, 'awesome': 2, 'tensorflow': 3, 'keras': 4, 'also': 5, 'python': 6, 'too': 7}\n"
     ]
    }
   ],
   "source": [
    "# creating an instance of the Tokenizer object\n",
    "# num_words param is the max no of words to keep\n",
    "tokenizer = Tokenizer(num_words=50)\n",
    "\n",
    "# object reads the data (df) and fit itself \n",
    "tokenizer.fit_on_texts(df)\n",
    "\n",
    "# full list of texts available as the Tokenizer's word index property\n",
    "token = tokenizer.word_index\n",
    "\n",
    "# result will be disaplayed as a key value pair: \n",
    "# key -> text, value -> token for that word.\n",
    "print(token)"
   ]
  },
  {
   "cell_type": "code",
   "execution_count": null,
   "metadata": {},
   "outputs": [],
   "source": [
    "# Now words in the text are represented by plain numbers (tokens)."
   ]
  },
  {
   "cell_type": "code",
   "execution_count": 12,
   "metadata": {},
   "outputs": [
    {
     "name": "stdout",
     "output_type": "stream",
     "text": [
      "{'is': 1, 'awesome': 2, 'tensorflow': 3, 'keras': 4, 'also': 5, 'python': 6, 'too': 7}\n",
      "[[3, 1, 2], [4, 1, 5, 2], [6, 1, 7, 2]]\n"
     ]
    }
   ],
   "source": [
    "# mention the token for the text in a sequential order\n",
    "sequence = tokenizer.texts_to_sequences(df)\n",
    "print(token)\n",
    "print(sequence)"
   ]
  },
  {
   "cell_type": "code",
   "execution_count": 16,
   "metadata": {},
   "outputs": [],
   "source": [
    "# validate the tokenizer with new data\n",
    "val_data = [\n",
    "    \"I like to learn Tensorflow\",\n",
    "    \"Everyone likes to learn Keras\"\n",
    "]"
   ]
  },
  {
   "cell_type": "code",
   "execution_count": 17,
   "metadata": {},
   "outputs": [
    {
     "name": "stdout",
     "output_type": "stream",
     "text": [
      "[[3], [4]]\n"
     ]
    }
   ],
   "source": [
    "val_sequence = tokenizer.texts_to_sequences(val_data)\n",
    "print(val_sequence)"
   ]
  },
  {
   "cell_type": "code",
   "execution_count": null,
   "metadata": {},
   "outputs": [],
   "source": [
    "# in the above step, new words are not recognized by the tokenizer.\n",
    "# to overcome this, use the 'oov_token' property of the Tokenizer"
   ]
  },
  {
   "cell_type": "code",
   "execution_count": 21,
   "metadata": {},
   "outputs": [
    {
     "name": "stdout",
     "output_type": "stream",
     "text": [
      "{'<oov>': 1, 'is': 2, 'awesome': 3, 'tensorflow': 4, 'keras': 5, 'also': 6, 'python': 7, 'too': 8}\n"
     ]
    }
   ],
   "source": [
    "tokenizer1 = Tokenizer(num_words=50, oov_token=\"<oov>\")\n",
    "tokenizer1.fit_on_texts(df)\n",
    "token1 = tokenizer1.word_index\n",
    "print(token1)"
   ]
  },
  {
   "cell_type": "code",
   "execution_count": 22,
   "metadata": {},
   "outputs": [
    {
     "name": "stdout",
     "output_type": "stream",
     "text": [
      "[[1, 1, 1, 1, 4], [1, 1, 1, 1, 5]]\n"
     ]
    }
   ],
   "source": [
    "# with the same validation data getting the tokens for new words\n",
    "val_seq1 = tokenizer1.texts_to_sequences(val_data)\n",
    "print(val_seq1)"
   ]
  },
  {
   "cell_type": "code",
   "execution_count": 23,
   "metadata": {},
   "outputs": [],
   "source": [
    "# in the input data df, the length of the string is different.\n",
    "# use padding to fit the data in same length\n",
    "\n",
    "from tensorflow.keras.preprocessing.sequence import pad_sequences"
   ]
  },
  {
   "cell_type": "code",
   "execution_count": 28,
   "metadata": {},
   "outputs": [
    {
     "name": "stdout",
     "output_type": "stream",
     "text": [
      "Token\n",
      "{'is': 1, 'awesome': 2, 'tensorflow': 3, 'keras': 4, 'also': 5, 'python': 6, 'too': 7}\n",
      "\n",
      "Sequence\n",
      "[[3, 1, 2], [4, 1, 5, 2], [6, 1, 7, 2]]\n",
      "\n",
      "Sequence after Padding\n",
      "[[0 3 1 2]\n",
      " [4 1 5 2]\n",
      " [6 1 7 2]]\n"
     ]
    }
   ],
   "source": [
    "pad_df = pad_sequences(sequence)\n",
    "print(\"Token\")\n",
    "print(token)\n",
    "print(\"\\nSequence\")\n",
    "print(sequence)\n",
    "print(\"\\nSequence after Padding\")\n",
    "print(pad_df)"
   ]
  },
  {
   "cell_type": "code",
   "execution_count": 30,
   "metadata": {},
   "outputs": [
    {
     "name": "stdout",
     "output_type": "stream",
     "text": [
      "Token\n",
      "{'is': 1, 'awesome': 2, 'tensorflow': 3, 'keras': 4, 'also': 5, 'python': 6, 'too': 7}\n",
      "\n",
      "Sequence\n",
      "[[3, 1, 2], [4, 1, 5, 2], [6, 1, 7, 2]]\n",
      "\n",
      "Sequence after Padding\n",
      "[[3 1 2 0]\n",
      " [4 1 5 2]\n",
      " [6 1 7 2]]\n"
     ]
    }
   ],
   "source": [
    "# keeping the padding at last\n",
    "# deafult is at the begining like above\n",
    "pad_df = pad_sequences(sequence, padding='post')\n",
    "print(\"Token\")\n",
    "print(token)\n",
    "print(\"\\nSequence\")\n",
    "print(sequence)\n",
    "print(\"\\nSequence after Padding\")\n",
    "print(pad_df)"
   ]
  },
  {
   "cell_type": "code",
   "execution_count": 31,
   "metadata": {},
   "outputs": [
    {
     "name": "stdout",
     "output_type": "stream",
     "text": [
      "Token\n",
      "{'is': 1, 'awesome': 2, 'tensorflow': 3, 'keras': 4, 'also': 5, 'python': 6, 'too': 7}\n",
      "\n",
      "Sequence\n",
      "[[3, 1, 2], [4, 1, 5, 2], [6, 1, 7, 2]]\n",
      "\n",
      "Sequence after Padding\n",
      "[[3 1 2]\n",
      " [1 5 2]\n",
      " [1 7 2]]\n"
     ]
    }
   ],
   "source": [
    "# to fix the maximum length of the padded sequence\n",
    "pad_df = pad_sequences(sequence, padding='post', maxlen=3)\n",
    "\n",
    "print(\"Token\")\n",
    "print(token)\n",
    "print(\"\\nSequence\")\n",
    "print(sequence)\n",
    "print(\"\\nSequence after Padding\")\n",
    "print(pad_df)"
   ]
  },
  {
   "cell_type": "code",
   "execution_count": 33,
   "metadata": {},
   "outputs": [
    {
     "name": "stdout",
     "output_type": "stream",
     "text": [
      "Token\n",
      "{'is': 1, 'awesome': 2, 'tensorflow': 3, 'keras': 4, 'also': 5, 'python': 6, 'too': 7}\n",
      "\n",
      "Sequence\n",
      "[[3, 1, 2], [4, 1, 5, 2], [6, 1, 7, 2]]\n",
      "\n",
      "Sequence after Padding\n",
      "[[3 1 2]\n",
      " [4 1 5]\n",
      " [6 1 7]]\n"
     ]
    }
   ],
   "source": [
    "# missed values at the begining for the rest of the sequence\n",
    "# mention the trunncation value\n",
    "pad_df = pad_sequences(sequence, padding='post', truncating='post', maxlen=3)\n",
    "print(\"Token\")\n",
    "print(token)\n",
    "print(\"\\nSequence\")\n",
    "print(sequence)\n",
    "print(\"\\nSequence after Padding\")\n",
    "print(pad_df)"
   ]
  }
 ],
 "metadata": {
  "kernelspec": {
   "display_name": "Python 3",
   "language": "python",
   "name": "python3"
  },
  "language_info": {
   "codemirror_mode": {
    "name": "ipython",
    "version": 3
   },
   "file_extension": ".py",
   "mimetype": "text/x-python",
   "name": "python",
   "nbconvert_exporter": "python",
   "pygments_lexer": "ipython3",
   "version": "3.6.5"
  }
 },
 "nbformat": 4,
 "nbformat_minor": 2
}
